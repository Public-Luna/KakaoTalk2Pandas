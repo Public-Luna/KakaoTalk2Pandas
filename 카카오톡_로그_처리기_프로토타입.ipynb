{
  "nbformat": 4,
  "nbformat_minor": 0,
  "metadata": {
    "colab": {
      "name": "카카오톡 로그 처리기 프로토타입",
      "provenance": [],
      "collapsed_sections": []
    },
    "kernelspec": {
      "name": "python3",
      "display_name": "Python 3"
    },
    "language_info": {
      "name": "python"
    }
  },
  "cells": [
    {
      "cell_type": "code",
      "metadata": {
        "id": "L_7QXUenFYSf"
      },
      "source": [
        "import pandas as pd\n",
        "import numpy as np\n",
        "import re"
      ],
      "execution_count": 1,
      "outputs": []
    },
    {
      "cell_type": "code",
      "metadata": {
        "id": "n-CqieWrGmBg"
      },
      "source": [
        "df = pd.read_csv('KakaoTalk_Chat_SAI-A NLP팀_2021-05-04-20-16-01.csv')\n",
        "df"
      ],
      "execution_count": null,
      "outputs": []
    },
    {
      "cell_type": "code",
      "metadata": {
        "id": "cWEdx_m2KjNl"
      },
      "source": [
        "def dateformat(y=0,m=0,d=0,h=0,mm=0,s=0):\n",
        "    return \"%d-%02d-%02d %02d:%02d:%02d\"%(y,m,d,h,mm,s)"
      ],
      "execution_count": 6,
      "outputs": []
    },
    {
      "cell_type": "code",
      "metadata": {
        "id": "Va7-Wa6QGZZJ"
      },
      "source": [
        "f = open('Talk_2021.5.3 23:58-1.txt', mode='r', encoding='utf-8')\n",
        "\n",
        "file_name = f.readline()\n",
        "save_date_re = re.compile('저장한 날짜 : ([0-9]{4})\\. ([0-9]{1,2})\\. ([0-9]{1,2})\\. ([0-9]{2}):([0-9]{2})')\n",
        "m = save_date_re.match(f.readline())\n",
        "save_date = dateformat(int(m[1]), int(m[2]), int(m[3]), int(m[4]), int(m[5]))\n",
        "\n",
        "f.readline() # 공백 제거\n",
        "f.readline() # 공백 제거\n",
        "f.readline() # 공백 제거\n",
        "\n",
        "history = []\n",
        "histline = ''\n",
        "date = None\n",
        "\n",
        "date_re = re.compile('([0-9]{4})년 ([0-9]{1,2})월 ([0-9]{1,2})일 ((월|화|수|목|금|토|일)요일)')\n",
        "invite_re = re.compile('([0-9]{4})\\. ([0-9]{1,2})\\. ([0-9]{1,2})\\. ([0-9]{2}):([0-9]{2}): ((.+)님이 .+ 초대했습니다.)')\n",
        "chat_re = re.compile('([0-9]{4})\\. ([0-9]{1,2})\\. ([0-9]{1,2})\\. ([0-9]{2}):([0-9]{2}), (.+) : (.+)')\n",
        "\n",
        "chat_temp = ''\n",
        "\n",
        "i=0\n",
        "while True:\n",
        "    line = f.readline()\n",
        "    if not line: \n",
        "        break\n",
        "    # print(line, end='')\n",
        "\n",
        "    # chat\n",
        "    m = chat_re.match(line)\n",
        "    if m:\n",
        "        date = dateformat(int(m[1]), int(m[2]), int(m[3]), int(m[4]), int(m[5]))\n",
        "        user = m[6]\n",
        "        content = m[7]\n",
        "        history.append([date, user, content])\n",
        "        continue\n",
        "    # date\n",
        "    m = date_re.match(line)\n",
        "    if m:\n",
        "        date = dateformat(int(m[1]), int(m[2]), int(m[3]))\n",
        "        # print('aaaaaaaaaaaa' ,history[-1][2])\n",
        "        continue\n",
        "    # invite\n",
        "    m = invite_re.match(line)\n",
        "    if m:\n",
        "        date = dateformat(int(m[1]), int(m[2]), int(m[3]), int(m[4]), int(m[5]))\n",
        "        user = m[7]\n",
        "        content = m[6]\n",
        "        history.append([date, user, content])\n",
        "        continue\n",
        "    # \\n chat\n",
        "    history[-1][2] += line\n",
        "df2 = pd.DataFrame(history, columns=['Date', 'User', 'Message'])"
      ],
      "execution_count": 41,
      "outputs": []
    },
    {
      "cell_type": "code",
      "metadata": {
        "colab": {
          "base_uri": "https://localhost:8080/"
        },
        "id": "lkF69xTFT-ry",
        "outputId": "c3ae3042-5603-4635-be16-0add8ad98916"
      },
      "source": [
        "df.info()"
      ],
      "execution_count": 49,
      "outputs": [
        {
          "output_type": "stream",
          "text": [
            "<class 'pandas.core.frame.DataFrame'>\n",
            "RangeIndex: 602 entries, 0 to 601\n",
            "Data columns (total 3 columns):\n",
            " #   Column   Non-Null Count  Dtype \n",
            "---  ------   --------------  ----- \n",
            " 0   Date     602 non-null    object\n",
            " 1   User     602 non-null    object\n",
            " 2   Message  602 non-null    object\n",
            "dtypes: object(3)\n",
            "memory usage: 14.2+ KB\n"
          ],
          "name": "stdout"
        }
      ]
    },
    {
      "cell_type": "code",
      "metadata": {
        "colab": {
          "base_uri": "https://localhost:8080/"
        },
        "id": "NNI7Qez3UAT_",
        "outputId": "0d026fb8-cebf-4379-ef81-b2e70cc09be4"
      },
      "source": [
        "df2.info()"
      ],
      "execution_count": 50,
      "outputs": [
        {
          "output_type": "stream",
          "text": [
            "<class 'pandas.core.frame.DataFrame'>\n",
            "RangeIndex: 599 entries, 0 to 598\n",
            "Data columns (total 3 columns):\n",
            " #   Column   Non-Null Count  Dtype \n",
            "---  ------   --------------  ----- \n",
            " 0   Date     599 non-null    object\n",
            " 1   User     599 non-null    object\n",
            " 2   Message  599 non-null    object\n",
            "dtypes: object(3)\n",
            "memory usage: 14.2+ KB\n"
          ],
          "name": "stdout"
        }
      ]
    },
    {
      "cell_type": "code",
      "metadata": {
        "id": "sElOmF0iW4ov"
      },
      "source": [
        "print(df['Message'][16])\n",
        "print(df2['Message'][16])"
      ],
      "execution_count": null,
      "outputs": []
    },
    {
      "cell_type": "code",
      "metadata": {
        "id": "_46AYgKAWrUY"
      },
      "source": [
        "df[0:50]"
      ],
      "execution_count": null,
      "outputs": []
    },
    {
      "cell_type": "code",
      "metadata": {
        "id": "QAyzGD0WUKSQ"
      },
      "source": [
        "df['new'] = np.where(df['Message'].eq(df2['Message']), 'OK', '')\n",
        "for i in df.values:\n",
        "    print(i)"
      ],
      "execution_count": null,
      "outputs": []
    },
    {
      "cell_type": "code",
      "metadata": {
        "id": "OWIvqR6bGwq_"
      },
      "source": [
        "print(df['Message'])\n",
        "print(df2['Message'])"
      ],
      "execution_count": null,
      "outputs": []
    }
  ]
}